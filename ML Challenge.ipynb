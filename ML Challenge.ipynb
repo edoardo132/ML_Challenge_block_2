{
 "cells": [
  {
   "cell_type": "markdown",
   "metadata": {},
   "source": [
    "## ML Challenge 2021"
   ]
  },
  {
   "cell_type": "code",
   "execution_count": 15,
   "metadata": {},
   "outputs": [
    {
     "name": "stdout",
     "output_type": "stream",
     "text": [
      "9658\n",
      "1000\n"
     ]
    },
    {
     "name": "stderr",
     "output_type": "stream",
     "text": [
      "/Users/edoardosaldarelli/opt/anaconda3/lib/python3.8/site-packages/sklearn/utils/deprecation.py:143: FutureWarning: The sklearn.datasets.samples_generator module is  deprecated in version 0.22 and will be removed in version 0.24. The corresponding classes / functions should instead be imported from sklearn.datasets. Anything that cannot be imported from sklearn.datasets is now part of the private API.\n",
      "  warnings.warn(message, FutureWarning)\n"
     ]
    }
   ],
   "source": [
    "import json\n",
    "import pandas as pd\n",
    "import seaborn as sns\n",
    "import matplotlib.pyplot as plt\n",
    "sns.set()\n",
    "import numpy as np\n",
    "from sklearn.model_selection import cross_val_score\n",
    "from sklearn.model_selection import train_test_split\n",
    "from scipy.stats import pearsonr\n",
    "from sklearn.datasets import load_boston\n",
    "%matplotlib inline\n",
    "from sklearn.preprocessing import PolynomialFeatures\n",
    "from sklearn import linear_model\n",
    "from sklearn.cluster import KMeans \n",
    "from sklearn.datasets.samples_generator import make_blobs\n",
    "\n",
    "\n",
    "\n",
    "\n",
    "\n",
    "file = open(\"train-1.json\")\n",
    "train_dict = json.load(file)\n",
    "file.close()\n",
    "\n",
    "print(len(train_dict))\n",
    "\n",
    "file1=open('test.json')\n",
    "test_dict= json.load(file1)\n",
    "file1.close()\n",
    "print(len(test_dict))"
   ]
  },
  {
   "cell_type": "code",
   "execution_count": 2,
   "metadata": {},
   "outputs": [
    {
     "data": {
      "text/html": [
       "<div>\n",
       "<style scoped>\n",
       "    .dataframe tbody tr th:only-of-type {\n",
       "        vertical-align: middle;\n",
       "    }\n",
       "\n",
       "    .dataframe tbody tr th {\n",
       "        vertical-align: top;\n",
       "    }\n",
       "\n",
       "    .dataframe thead th {\n",
       "        text-align: right;\n",
       "    }\n",
       "</style>\n",
       "<table border=\"1\" class=\"dataframe\">\n",
       "  <thead>\n",
       "    <tr style=\"text-align: right;\">\n",
       "      <th></th>\n",
       "      <th>title</th>\n",
       "      <th>abstract</th>\n",
       "      <th>year</th>\n",
       "      <th>references</th>\n",
       "      <th>topics</th>\n",
       "      <th>fields_of_study</th>\n",
       "      <th>citations</th>\n",
       "    </tr>\n",
       "  </thead>\n",
       "  <tbody>\n",
       "    <tr>\n",
       "      <th>0</th>\n",
       "      <td>Generating High Quality Proposition Banks for ...</td>\n",
       "      <td>Semantic role labeling (SRL) is crucial to nat...</td>\n",
       "      <td>2015.0</td>\n",
       "      <td>39</td>\n",
       "      <td>[Semantic role labeling]</td>\n",
       "      <td>[Computer Science]</td>\n",
       "      <td>60</td>\n",
       "    </tr>\n",
       "    <tr>\n",
       "      <th>1</th>\n",
       "      <td>One of these words is not like the other: a re...</td>\n",
       "      <td>Word embeddings are an active topic in the NLP...</td>\n",
       "      <td>2020.0</td>\n",
       "      <td>44</td>\n",
       "      <td>[]</td>\n",
       "      <td>[Computer Science]</td>\n",
       "      <td>1</td>\n",
       "    </tr>\n",
       "    <tr>\n",
       "      <th>2</th>\n",
       "      <td>The Code2Text Challenge: Text Generation in So...</td>\n",
       "      <td>We propose a new shared task for tactical data...</td>\n",
       "      <td>2017.0</td>\n",
       "      <td>30</td>\n",
       "      <td>[Natural language generation, Library (computi...</td>\n",
       "      <td>[Computer Science]</td>\n",
       "      <td>5</td>\n",
       "    </tr>\n",
       "    <tr>\n",
       "      <th>3</th>\n",
       "      <td>The Meaning Factory at SemEval-2017 Task 9: Pr...</td>\n",
       "      <td>We evaluate a semantic parser based on a chara...</td>\n",
       "      <td>2017.0</td>\n",
       "      <td>11</td>\n",
       "      <td>[Parsing, Convolutional neural network, Text-b...</td>\n",
       "      <td>[Computer Science]</td>\n",
       "      <td>5</td>\n",
       "    </tr>\n",
       "    <tr>\n",
       "      <th>4</th>\n",
       "      <td>Semantic Parsing for Textual Entailment</td>\n",
       "      <td>In this paper we gauge the utility of general-...</td>\n",
       "      <td>2015.0</td>\n",
       "      <td>26</td>\n",
       "      <td>[Textual entailment, Parsing, SemEval, Semanti...</td>\n",
       "      <td>[Computer Science]</td>\n",
       "      <td>10</td>\n",
       "    </tr>\n",
       "  </tbody>\n",
       "</table>\n",
       "</div>"
      ],
      "text/plain": [
       "                                               title  \\\n",
       "0  Generating High Quality Proposition Banks for ...   \n",
       "1  One of these words is not like the other: a re...   \n",
       "2  The Code2Text Challenge: Text Generation in So...   \n",
       "3  The Meaning Factory at SemEval-2017 Task 9: Pr...   \n",
       "4            Semantic Parsing for Textual Entailment   \n",
       "\n",
       "                                            abstract    year  references  \\\n",
       "0  Semantic role labeling (SRL) is crucial to nat...  2015.0          39   \n",
       "1  Word embeddings are an active topic in the NLP...  2020.0          44   \n",
       "2  We propose a new shared task for tactical data...  2017.0          30   \n",
       "3  We evaluate a semantic parser based on a chara...  2017.0          11   \n",
       "4  In this paper we gauge the utility of general-...  2015.0          26   \n",
       "\n",
       "                                              topics     fields_of_study  \\\n",
       "0                           [Semantic role labeling]  [Computer Science]   \n",
       "1                                                 []  [Computer Science]   \n",
       "2  [Natural language generation, Library (computi...  [Computer Science]   \n",
       "3  [Parsing, Convolutional neural network, Text-b...  [Computer Science]   \n",
       "4  [Textual entailment, Parsing, SemEval, Semanti...  [Computer Science]   \n",
       "\n",
       "   citations  \n",
       "0         60  \n",
       "1          1  \n",
       "2          5  \n",
       "3          5  \n",
       "4         10  "
      ]
     },
     "execution_count": 2,
     "metadata": {},
     "output_type": "execute_result"
    }
   ],
   "source": [
    "df = pd.DataFrame(train_dict)\n",
    "df = df.drop(columns=[\"doi\", \"authors\", \"venue\", \"is_open_access\"])\n",
    "df.shape\n",
    "df.head()\n",
    "\n"
   ]
  },
  {
   "cell_type": "code",
   "execution_count": 3,
   "metadata": {},
   "outputs": [
    {
     "data": {
      "image/png": "[encoded data removed]",
      "text/plain": [
       "<Figure size 432x288 with 1 Axes>"
      ]
     },
     "metadata": {
      "needs_background": "light"
     },
     "output_type": "display_data"
    }
   ],
   "source": [
    "df[\"fields_of_study\"].value_counts()\n",
    "\n",
    "pds = (df[df.columns].isna().sum() / len(df.index))*100\n",
    "ax = pds.plot.bar()"
   ]
  },
  {
   "cell_type": "code",
   "execution_count": 4,
   "metadata": {},
   "outputs": [
    {
     "data": {
      "text/plain": [
       "title                0\n",
       "abstract           159\n",
       "year                 3\n",
       "references           0\n",
       "topics               0\n",
       "fields_of_study    136\n",
       "citations            0\n",
       "dtype: int64"
      ]
     },
     "execution_count": 4,
     "metadata": {},
     "output_type": "execute_result"
    }
   ],
   "source": [
    "df.isna().sum()"
   ]
  },
  {
   "cell_type": "code",
   "execution_count": 5,
   "metadata": {},
   "outputs": [
    {
     "ename": "NameError",
     "evalue": "name 'LogisticRegression' is not defined",
     "output_type": "error",
     "traceback": [
      "\u001b[0;31m---------------------------------------------------------------------------\u001b[0m",
      "\u001b[0;31mNameError\u001b[0m                                 Traceback (most recent call last)",
      "\u001b[0;32m<ipython-input-5-961c0e71a4b4>\u001b[0m in \u001b[0;36m<module>\u001b[0;34m\u001b[0m\n\u001b[1;32m      1\u001b[0m \u001b[0mdf\u001b[0m\u001b[0;34m[\u001b[0m\u001b[0;34m\"fields_of_study\"\u001b[0m\u001b[0;34m]\u001b[0m \u001b[0;34m=\u001b[0m \u001b[0mdf\u001b[0m\u001b[0;34m[\u001b[0m\u001b[0;34m\"fields_of_study\"\u001b[0m\u001b[0;34m]\u001b[0m\u001b[0;34m.\u001b[0m\u001b[0mfillna\u001b[0m\u001b[0;34m(\u001b[0m\u001b[0;36m0\u001b[0m\u001b[0;34m)\u001b[0m\u001b[0;34m\u001b[0m\u001b[0;34m\u001b[0m\u001b[0m\n\u001b[1;32m      2\u001b[0m \u001b[0;34m\u001b[0m\u001b[0m\n\u001b[0;32m----> 3\u001b[0;31m \u001b[0mlogreg\u001b[0m \u001b[0;34m=\u001b[0m \u001b[0mLogisticRegression\u001b[0m\u001b[0;34m(\u001b[0m\u001b[0;34m)\u001b[0m\u001b[0;34m\u001b[0m\u001b[0;34m\u001b[0m\u001b[0m\n\u001b[0m\u001b[1;32m      4\u001b[0m \u001b[0;34m\u001b[0m\u001b[0m\n\u001b[1;32m      5\u001b[0m \u001b[0mcross_val_score\u001b[0m\u001b[0;34m(\u001b[0m\u001b[0mlogreg\u001b[0m\u001b[0;34m,\u001b[0m \u001b[0mX\u001b[0m\u001b[0;34m,\u001b[0m \u001b[0my\u001b[0m\u001b[0;34m,\u001b[0m \u001b[0mcv\u001b[0m\u001b[0;34m=\u001b[0m\u001b[0;36m5\u001b[0m\u001b[0;34m,\u001b[0m \u001b[0mscoring\u001b[0m\u001b[0;34m=\u001b[0m\u001b[0;34m'accuracy'\u001b[0m\u001b[0;34m)\u001b[0m\u001b[0;34m.\u001b[0m\u001b[0mmean\u001b[0m\u001b[0;34m(\u001b[0m\u001b[0;34m)\u001b[0m\u001b[0;34m\u001b[0m\u001b[0;34m\u001b[0m\u001b[0m\n",
      "\u001b[0;31mNameError\u001b[0m: name 'LogisticRegression' is not defined"
     ]
    }
   ],
   "source": [
    "df[\"fields_of_study\"] = df[\"fields_of_study\"].fillna(0)\n",
    "\n",
    "logreg = LogisticRegression()\n",
    "\n",
    "cross_val_score(logreg, X, y, cv=5, scoring='accuracy').mean()\n"
   ]
  },
  {
   "cell_type": "code",
   "execution_count": 6,
   "metadata": {},
   "outputs": [],
   "source": [
    "train, validation = train_test_split(df, test_size = 0.20, random_state = 42)\n",
    "y_train = train['citations']"
   ]
  },
  {
   "cell_type": "code",
   "execution_count": 7,
   "metadata": {},
   "outputs": [
    {
     "data": {
      "text/plain": [
       "title              7726\n",
       "abstract           7601\n",
       "year               7724\n",
       "references         7726\n",
       "topics             7726\n",
       "fields_of_study    7726\n",
       "citations          7726\n",
       "dtype: int64"
      ]
     },
     "execution_count": 7,
     "metadata": {},
     "output_type": "execute_result"
    }
   ],
   "source": [
    "len(train)\n",
    "len(validation)\n",
    "train.count(axis= 0)"
   ]
  },
  {
   "cell_type": "code",
   "execution_count": 8,
   "metadata": {},
   "outputs": [
    {
     "name": "stdout",
     "output_type": "stream",
     "text": [
      "0      223\n",
      "24     222\n",
      "22     215\n",
      "25     215\n",
      "21     207\n",
      "      ... \n",
      "163      1\n",
      "373      1\n",
      "98       1\n",
      "110      1\n",
      "301      1\n",
      "Name: references, Length: 165, dtype: int64\n",
      "---Number of references from lowest to highest---\n",
      "0       975\n",
      "1       678\n",
      "2       514\n",
      "3       416\n",
      "4       382\n",
      "       ... \n",
      "1553      1\n",
      "1169      1\n",
      "5259      1\n",
      "977       1\n",
      "1885      1\n",
      "Name: citations, Length: 378, dtype: int64\n",
      "---Number of citations from lowest to highest---\n",
      "2019.0    1271\n",
      "2020.0    1139\n",
      "2018.0     901\n",
      "2021.0     863\n",
      "2017.0     656\n",
      "2016.0     642\n",
      "2015.0     629\n",
      "2014.0     597\n",
      "1998.0      94\n",
      "2002.0      79\n",
      "2003.0      75\n",
      "2000.0      73\n",
      "2006.0      62\n",
      "1997.0      57\n",
      "2005.0      56\n",
      "1996.0      46\n",
      "1984.0      39\n",
      "1999.0      36\n",
      "2004.0      36\n",
      "1994.0      28\n",
      "2001.0      27\n",
      "1988.0      24\n",
      "2013.0      23\n",
      "1983.0      22\n",
      "1993.0      20\n",
      "1992.0      19\n",
      "2011.0      18\n",
      "1991.0      16\n",
      "1985.0      16\n",
      "1990.0      16\n",
      "2012.0      16\n",
      "2010.0      14\n",
      "1980.0      14\n",
      "1987.0      14\n",
      "1989.0      12\n",
      "1982.0      11\n",
      "2008.0      10\n",
      "1995.0      10\n",
      "2009.0      10\n",
      "1981.0      10\n",
      "2007.0       9\n",
      "1986.0       8\n",
      "1979.0       6\n",
      "Name: year, dtype: int64\n",
      "---Check from 1979 to 2021, how many books, periodicals published in each year---\n"
     ]
    }
   ],
   "source": [
    "print(train[\"references\"].value_counts())\n",
    "print('---Number of references from lowest to highest---')\n",
    "print(train[\"citations\"].value_counts())\n",
    "print('---Number of citations from lowest to highest---')\n",
    "print(train[\"year\"].value_counts())\n",
    "print('---Check from 1979 to 2021, how many books, periodicals published in each year---')"
   ]
  },
  {
   "cell_type": "code",
   "execution_count": 9,
   "metadata": {
    "collapsed": true
   },
   "outputs": [
    {
     "name": "stdout",
     "output_type": "stream",
     "text": [
      "Authors and publishers who wish their publications to be considered for review in Computational Linguistics should send a copy to the book review editor, Graeme Hirst, Department of Computer Science, University of Toronto, Toronto, Canada M5S 3G4. All relevant books received will be listed, but not all can be reviewed. Technical reports (other than dissertations) will not be listed or reviewed. Authors should be aware that some publishers will not send books for review (even when instructed to do so); authors wishing to inquire as to whether their book has been received for review may contact the book review editor.                                                                                                                                                                                                                                                                                                                                                                                                                                                                                                                       3\n",
      "This paper introduces the NLP-TEA 2015 shared task for Chinese grammatical error diagnosis. We describe the task, data preparation, performance metrics, and evaluation results. The hope is that such an evaluation campaign may produce more advanced Chinese grammatical error diagnosis techniques. All data sets with gold standards and evaluation tools are publicly available for research purposes.                                                                                                                                                                                                                                                                                                                                                                                                                                                                                                                                                                                                                                                                                                                                                          2\n",
      "The models used in traditional model-theoretic semantics provide a complete and static representation of knowledge about the world, llowever, this is not the environment in which language is used. Language is used in a dynamic environment the participants have incomplete knowledge of the world and the understanding of a sentence can add to the knowledge of the listener. A formalism which allows models to contain incomplete knowledge and to which knowledge can be added has been developed [2, 3, 12].                                                                                                                                                                                                                                                                                                                                                                                                                                                                                                                                                                                                                                               2\n",
      "There have been four Text REtrieval Conferences (TRECs); TREC-1 in November 1992, TREC-2 in August 1993, TREC-3 in November 1994 and TREC-4 in November 1995. The number of participating systems has grown from 25 in TREC-1 to 36 in TREC-4, including most of the major text retrieval software companies and most of the universities doing research in text retrieval (see table for some of the participants). The diversity of the participating groups has ensured that TREC represents many different approaches to text retrieval, while the emphasis on individual experiments evaluated in a common setting has proven to be a major strength of TREC.                                                                                                                                                                                                                                                                                                                                                                                                                                                                                                    2\n",
      "Authors and publishers who wish their publications to be considered for review in Computational Linguistics should send a copy to the Book Review Editor, Graeme Hirst, Department of Computer Science, University of Toronto, Toronto, Canada M5S 3G4. All books received that are relevant to computational linguistics and natural language processing will be listed, but not all can be reviewed. Technical reports (other than dissertations) and conference and workshop proceedings (other than those distributed by a major publisher) will not be listed or reviewed. Authors should be aware that some publishers will not send books for review even when instructed to do so; authors wishing to enquire as to whether their book has been received for review may contact the book review editor.                                                                                                                                                                                                                                                                                                                                                       2\n",
      "                                                                                                                                                                                                                                                                                                                                                                                                                                                                                                                                                                                                                                                                                                                                                                                                                                                                                                                                                                                                                                                                                                                                                                     ..\n",
      "In this paper, we propose a method of automatically generating multiple-choice fill-inthe-blank exercises from existing text passages that challenge a reader’s comprehension skills and contextual awareness. We use a unique application of word co-occurrence likelihoods and the Google n-grams corpus to select words with strong contextual links to their surrounding text, and to generate distractors that make sense only in an isolated narrow context and not in the full context of the passage. Results show that our method is successful at generating questions with distractors that are semantically consistent in a narrow context but inconsistent given the full text, with larger n-grams yielding significantly better results.                                                                                                                                                                                                                                                                                                                                                                                                               1\n",
      "Automatic geolocation of microblog posts from their text content is particularly difficult because many location-indicative terms are rare terms, notably entity names such as locations, people or local organisations. Their low frequency means that key terms observed in testing are often unseen in training, such that standard classifiers are unable to learn weights for them. We propose a method for reasoning over such terms using a knowledge base, through exploiting their relations with other entities. Our technique uses a graph embedding over the knowledge base, which we couple with a text representation to learn a geolocation classifier, trained end-to-end. We show that our method improves over purely text-based methods, which we ascribe to more robust treatment of low-count and out-of-vocabulary entities.                                                                                                                                                                                                                                                                                                                    1\n",
      "We present the contribution of the ONLP lab at the Open University of Israel to the UD shared task on multilingual parsing from raw text to Universal Dependencies. Our contribution is based on a transition-based parser called ‘yap – yet another parser’, which includes a standalone morphological model, a standalone dependency model, and a joint morphosyntactic model. In the task we used yap‘s standalone dependency parser to parse input morphologically disambiguated by UDPipe, and obtained the official score of 58.35 LAS. In our follow up investigation we use yap to show how the incorporation of morphological and lexical resources may improve the performance of end-to-end raw-to-dependencies parsing in the case of a morphologically-rich and low-resource language, Modern Hebrew. Our results on Hebrew underscore the importance of CoNLL-UL, a UD-compatible standard for accessing external lexical resources, for enhancing end-to-end UD parsing, in particular for morphologically rich and low-resource languages. We thus encourage the community to create, convert, or make available more such lexica in future tasks.    1\n",
      "Dependency parsing as sequence labeling has recently proved to be a relevant alternative to the traditional transitionand graph-based approaches. It offers a good trade-off between parsing accuracy and speed. However, recent work on dependency parsing as sequence labeling ignore the pre-processing time of Part-of-Speech tagging – which is required for this task – in the evaluation of speed while other studies showed that Part-of-Speech tags are not essential to achieve state-ofthe-art parsing scores. In this paper, we compare the accuracy and speed of shared and stacked multi-task learning strategies – as well as a strategy that combines both – to learn Part-of-Speech tagging and dependency parsing in a single sequence labeling pipeline. In addition, we propose an alternative encoding of the dependencies as labels which does not use Part-of-Speech tags and improves dependency parsing accuracy for most of the languages we evaluate.                                                                                                                                                                                      1\n",
      "Generating multi-sentence descriptions for videos is one of the most challenging captioning tasks due to its high requirements for not only visual relevance but also discourse-based coherence across the sentences in the paragraph. Towards this goal, we propose a new approach called Memory-Augmented Recurrent Transformer (MART), which uses a memory module to augment the transformer architecture. The memory module generates a highly summarized memory state from the video segments and the sentence history so as to help better prediction of the next sentence (w.r.t. coreference and repetition aspects), thus encouraging coherent paragraph generation. Extensive experiments, human evaluations, and qualitative analyses on two popular datasets ActivityNet Captions and YouCookII show that MART generates more coherent and less repetitive paragraph captions than baseline methods, while maintaining relevance to the input video events.                                                                                                                                                                                               1\n",
      "Name: abstract, Length: 7595, dtype: int64\n"
     ]
    },
    {
     "data": {
      "text/plain": [
       "510     In this paper I propose a generalization of le...\n",
       "1965    We propose a novel method for acquiring entail...\n",
       "4504                                                 None\n",
       "9622    This paper reports on the BEA-2019 Shared Task...\n",
       "4292    Automatic math problem solving has recently at...\n",
       "Name: abstract, dtype: object"
      ]
     },
     "execution_count": 9,
     "metadata": {},
     "output_type": "execute_result"
    }
   ],
   "source": [
    "\n",
    "print(train.abstract.value_counts())\n",
    "train[\"abstract\"].head()"
   ]
  },
  {
   "cell_type": "code",
   "execution_count": 10,
   "metadata": {
    "collapsed": true
   },
   "outputs": [
    {
     "name": "stdout",
     "output_type": "stream",
     "text": [
      "Publications Received                                                                                   6\n",
      "The Text REtrieval Conferences (TRECs)                                                                  2\n",
      "Accumulation of Lexical Sets: Acquisition of Dictionary Resources and Production of New Lexical Sets    2\n",
      "Briefly Noted                                                                                           2\n",
      "Combining Outputs of Multiple Japanese Named Entity Chunkers by Stacking                                1\n",
      "                                                                                                       ..\n",
      "nlpUP at SemEval-2019 Task 6: A Deep Neural Language Model for Offensive Language Detection             1\n",
      "What do character-level models learn about morphology? The case of dependency parsing                   1\n",
      "Paraphrasing with Large Language Models                                                                 1\n",
      "How Good is Your Tokenizer? On the Monolingual Performance of Multilingual Language Models              1\n",
      "A Package for Learning on Tabular and Text Data with Transformers                                       1\n",
      "Name: title, Length: 7718, dtype: int64\n"
     ]
    },
    {
     "data": {
      "text/plain": [
       "Publications Received                                                                                   6\n",
       "The Text REtrieval Conferences (TRECs)                                                                  2\n",
       "Accumulation of Lexical Sets: Acquisition of Dictionary Resources and Production of New Lexical Sets    2\n",
       "Briefly Noted                                                                                           2\n",
       "Combining Outputs of Multiple Japanese Named Entity Chunkers by Stacking                                1\n",
       "                                                                                                       ..\n",
       "nlpUP at SemEval-2019 Task 6: A Deep Neural Language Model for Offensive Language Detection             1\n",
       "What do character-level models learn about morphology? The case of dependency parsing                   1\n",
       "Paraphrasing with Large Language Models                                                                 1\n",
       "How Good is Your Tokenizer? On the Monolingual Performance of Multilingual Language Models              1\n",
       "A Package for Learning on Tabular and Text Data with Transformers                                       1\n",
       "Name: title, Length: 7718, dtype: int64"
      ]
     },
     "execution_count": 10,
     "metadata": {},
     "output_type": "execute_result"
    }
   ],
   "source": [
    "print(train.title.value_counts())\n",
    "train[\"title\"].value_counts()"
   ]
  },
  {
   "cell_type": "code",
   "execution_count": 11,
   "metadata": {},
   "outputs": [
    {
     "name": "stderr",
     "output_type": "stream",
     "text": [
      "*c* argument looks like a single numeric RGB or RGBA sequence, which should be avoided as value-mapping will have precedence in case its length matches with *x* & *y*.  Please use the *color* keyword-argument or provide a 2-D array with a single row if you intend to specify the same RGB or RGBA value for all points.\n"
     ]
    },
    {
     "data": {
      "text/plain": [
       "<AxesSubplot:xlabel='year', ylabel='references'>"
      ]
     },
     "execution_count": 11,
     "metadata": {},
     "output_type": "execute_result"
    },
    {
     "data": {
      "image/png": "[encoded data removed]",
      "text/plain": [
       "<Figure size 432x288 with 1 Axes>"
      ]
     },
     "metadata": {
      "needs_background": "light"
     },
     "output_type": "display_data"
    }
   ],
   "source": [
    "train[train[\"references\"] <= 301].sample(7700).plot.scatter(x = \"year\", y = \"references\")"
   ]
  },
  {
   "cell_type": "code",
   "execution_count": 12,
   "metadata": {},
   "outputs": [
    {
     "name": "stderr",
     "output_type": "stream",
     "text": [
      "*c* argument looks like a single numeric RGB or RGBA sequence, which should be avoided as value-mapping will have precedence in case its length matches with *x* & *y*.  Please use the *color* keyword-argument or provide a 2-D array with a single row if you intend to specify the same RGB or RGBA value for all points.\n"
     ]
    },
    {
     "data": {
      "text/plain": [
       "<AxesSubplot:xlabel='year', ylabel='citations'>"
      ]
     },
     "execution_count": 12,
     "metadata": {},
     "output_type": "execute_result"
    },
    {
     "data": {
      "image/png": "[encoded data removed]",
      "text/plain": [
       "<Figure size 432x288 with 1 Axes>"
      ]
     },
     "metadata": {
      "needs_background": "light"
     },
     "output_type": "display_data"
    }
   ],
   "source": [
    "train[train[\"citations\"] <= 1885].sample(7700).plot.scatter(x = \"year\", y = \"citations\")"
   ]
  },
  {
   "cell_type": "code",
   "execution_count": 13,
   "metadata": {},
   "outputs": [
    {
     "name": "stdout",
     "output_type": "stream",
     "text": [
      "The correlation is 0.066079276529615\n",
      "The p-value is 6.113284442052579e-09\n"
     ]
    }
   ],
   "source": [
    "corr, p_value = pearsonr(train['references'], train['citations'])\n",
    "\n",
    "print('The correlation is ' + str(corr))\n",
    "print('The p-value is ' + str(p_value))\n",
    "\n",
    "\n"
   ]
  },
  {
   "cell_type": "code",
   "execution_count": 14,
   "metadata": {
    "collapsed": true
   },
   "outputs": [
    {
     "data": {
      "text/html": [
       "<div>\n",
       "<style scoped>\n",
       "    .dataframe tbody tr th:only-of-type {\n",
       "        vertical-align: middle;\n",
       "    }\n",
       "\n",
       "    .dataframe tbody tr th {\n",
       "        vertical-align: top;\n",
       "    }\n",
       "\n",
       "    .dataframe thead th {\n",
       "        text-align: right;\n",
       "    }\n",
       "</style>\n",
       "<table border=\"1\" class=\"dataframe\">\n",
       "  <thead>\n",
       "    <tr style=\"text-align: right;\">\n",
       "      <th></th>\n",
       "      <th>title</th>\n",
       "      <th>fields_of_study</th>\n",
       "      <th>abstract</th>\n",
       "      <th>year</th>\n",
       "      <th>references</th>\n",
       "      <th>topics</th>\n",
       "    </tr>\n",
       "  </thead>\n",
       "  <tbody>\n",
       "    <tr>\n",
       "      <th>0</th>\n",
       "      <td>On Sparsifying Encoder Outputs in Sequence-to-...</td>\n",
       "      <td>[Computer Science]</td>\n",
       "      <td>Sequence-to-sequence models usually transfer a...</td>\n",
       "      <td>2021</td>\n",
       "      <td>47</td>\n",
       "      <td>[Encoder, Transformer, Automatic summarization...</td>\n",
       "    </tr>\n",
       "    <tr>\n",
       "      <th>1</th>\n",
       "      <td>To Pretrain or Not to Pretrain: Examining the ...</td>\n",
       "      <td>[Computer Science, Mathematics]</td>\n",
       "      <td>Pretraining NLP models with variants of Masked...</td>\n",
       "      <td>2020</td>\n",
       "      <td>18</td>\n",
       "      <td>[Supervised learning, Language model, Document...</td>\n",
       "    </tr>\n",
       "    <tr>\n",
       "      <th>2</th>\n",
       "      <td>Utilization of Nganasan digital resources: a s...</td>\n",
       "      <td>[Computer Science]</td>\n",
       "      <td>According to the wide-spread belief, although ...</td>\n",
       "      <td>2018</td>\n",
       "      <td>8</td>\n",
       "      <td>[Rounding, Lexicon, Tracer, Body of uterus, Cl...</td>\n",
       "    </tr>\n",
       "    <tr>\n",
       "      <th>3</th>\n",
       "      <td>A large-scale study of the effects of word fre...</td>\n",
       "      <td>[Computer Science]</td>\n",
       "      <td>A number of psycholinguistic studies have fact...</td>\n",
       "      <td>2019</td>\n",
       "      <td>52</td>\n",
       "      <td>[Word lists by frequency, Text corpus, Sentenc...</td>\n",
       "    </tr>\n",
       "    <tr>\n",
       "      <th>4</th>\n",
       "      <td>Amherst685 at SemEval-2021 Task 7: Joint Model...</td>\n",
       "      <td>[Computer Science]</td>\n",
       "      <td>This paper describes our submission to theSemE...</td>\n",
       "      <td>2021</td>\n",
       "      <td>17</td>\n",
       "      <td>[]</td>\n",
       "    </tr>\n",
       "  </tbody>\n",
       "</table>\n",
       "</div>"
      ],
      "text/plain": [
       "                                               title  \\\n",
       "0  On Sparsifying Encoder Outputs in Sequence-to-...   \n",
       "1  To Pretrain or Not to Pretrain: Examining the ...   \n",
       "2  Utilization of Nganasan digital resources: a s...   \n",
       "3  A large-scale study of the effects of word fre...   \n",
       "4  Amherst685 at SemEval-2021 Task 7: Joint Model...   \n",
       "\n",
       "                   fields_of_study  \\\n",
       "0               [Computer Science]   \n",
       "1  [Computer Science, Mathematics]   \n",
       "2               [Computer Science]   \n",
       "3               [Computer Science]   \n",
       "4               [Computer Science]   \n",
       "\n",
       "                                            abstract  year  references  \\\n",
       "0  Sequence-to-sequence models usually transfer a...  2021          47   \n",
       "1  Pretraining NLP models with variants of Masked...  2020          18   \n",
       "2  According to the wide-spread belief, although ...  2018           8   \n",
       "3  A number of psycholinguistic studies have fact...  2019          52   \n",
       "4  This paper describes our submission to theSemE...  2021          17   \n",
       "\n",
       "                                              topics  \n",
       "0  [Encoder, Transformer, Automatic summarization...  \n",
       "1  [Supervised learning, Language model, Document...  \n",
       "2  [Rounding, Lexicon, Tracer, Body of uterus, Cl...  \n",
       "3  [Word lists by frequency, Text corpus, Sentenc...  \n",
       "4                                                 []  "
      ]
     },
     "execution_count": 14,
     "metadata": {},
     "output_type": "execute_result"
    }
   ],
   "source": [
    "df2 = pd.DataFrame(test_dict)\n",
    "df2.shape\n",
    "df2.head()\n",
    "df2 = df2.drop(columns=[\"doi\", \"authors\", \"venue\", \"is_open_access\"])\n",
    "df2.head()"
   ]
  },
  {
   "cell_type": "code",
   "execution_count": 18,
   "metadata": {},
   "outputs": [
    {
     "data": {
      "text/html": [
       "<div>\n",
       "<style scoped>\n",
       "    .dataframe tbody tr th:only-of-type {\n",
       "        vertical-align: middle;\n",
       "    }\n",
       "\n",
       "    .dataframe tbody tr th {\n",
       "        vertical-align: top;\n",
       "    }\n",
       "\n",
       "    .dataframe thead th {\n",
       "        text-align: right;\n",
       "    }\n",
       "</style>\n",
       "<table border=\"1\" class=\"dataframe\">\n",
       "  <thead>\n",
       "    <tr style=\"text-align: right;\">\n",
       "      <th></th>\n",
       "      <th>title</th>\n",
       "      <th>abstract</th>\n",
       "      <th>year</th>\n",
       "      <th>references</th>\n",
       "      <th>topics</th>\n",
       "      <th>fields_of_study</th>\n",
       "      <th>citations</th>\n",
       "    </tr>\n",
       "  </thead>\n",
       "  <tbody>\n",
       "    <tr>\n",
       "      <th>0</th>\n",
       "      <td>Generating High Quality Proposition Banks for ...</td>\n",
       "      <td>Semantic role labeling (SRL) is crucial to nat...</td>\n",
       "      <td>2015.0</td>\n",
       "      <td>39</td>\n",
       "      <td>[Semantic role labeling]</td>\n",
       "      <td>[Computer Science]</td>\n",
       "      <td>60</td>\n",
       "    </tr>\n",
       "    <tr>\n",
       "      <th>1</th>\n",
       "      <td>One of these words is not like the other: a re...</td>\n",
       "      <td>Word embeddings are an active topic in the NLP...</td>\n",
       "      <td>2020.0</td>\n",
       "      <td>44</td>\n",
       "      <td>[]</td>\n",
       "      <td>[Computer Science]</td>\n",
       "      <td>1</td>\n",
       "    </tr>\n",
       "    <tr>\n",
       "      <th>2</th>\n",
       "      <td>The Code2Text Challenge: Text Generation in So...</td>\n",
       "      <td>We propose a new shared task for tactical data...</td>\n",
       "      <td>2017.0</td>\n",
       "      <td>30</td>\n",
       "      <td>[Natural language generation, Library (computi...</td>\n",
       "      <td>[Computer Science]</td>\n",
       "      <td>5</td>\n",
       "    </tr>\n",
       "    <tr>\n",
       "      <th>3</th>\n",
       "      <td>The Meaning Factory at SemEval-2017 Task 9: Pr...</td>\n",
       "      <td>We evaluate a semantic parser based on a chara...</td>\n",
       "      <td>2017.0</td>\n",
       "      <td>11</td>\n",
       "      <td>[Parsing, Convolutional neural network, Text-b...</td>\n",
       "      <td>[Computer Science]</td>\n",
       "      <td>5</td>\n",
       "    </tr>\n",
       "    <tr>\n",
       "      <th>4</th>\n",
       "      <td>Semantic Parsing for Textual Entailment</td>\n",
       "      <td>In this paper we gauge the utility of general-...</td>\n",
       "      <td>2015.0</td>\n",
       "      <td>26</td>\n",
       "      <td>[Textual entailment, Parsing, SemEval, Semanti...</td>\n",
       "      <td>[Computer Science]</td>\n",
       "      <td>10</td>\n",
       "    </tr>\n",
       "  </tbody>\n",
       "</table>\n",
       "</div>"
      ],
      "text/plain": [
       "                                               title  \\\n",
       "0  Generating High Quality Proposition Banks for ...   \n",
       "1  One of these words is not like the other: a re...   \n",
       "2  The Code2Text Challenge: Text Generation in So...   \n",
       "3  The Meaning Factory at SemEval-2017 Task 9: Pr...   \n",
       "4            Semantic Parsing for Textual Entailment   \n",
       "\n",
       "                                            abstract    year  references  \\\n",
       "0  Semantic role labeling (SRL) is crucial to nat...  2015.0          39   \n",
       "1  Word embeddings are an active topic in the NLP...  2020.0          44   \n",
       "2  We propose a new shared task for tactical data...  2017.0          30   \n",
       "3  We evaluate a semantic parser based on a chara...  2017.0          11   \n",
       "4  In this paper we gauge the utility of general-...  2015.0          26   \n",
       "\n",
       "                                              topics     fields_of_study  \\\n",
       "0                           [Semantic role labeling]  [Computer Science]   \n",
       "1                                                 []  [Computer Science]   \n",
       "2  [Natural language generation, Library (computi...  [Computer Science]   \n",
       "3  [Parsing, Convolutional neural network, Text-b...  [Computer Science]   \n",
       "4  [Textual entailment, Parsing, SemEval, Semanti...  [Computer Science]   \n",
       "\n",
       "   citations  \n",
       "0         60  \n",
       "1          1  \n",
       "2          5  \n",
       "3          5  \n",
       "4         10  "
      ]
     },
     "execution_count": 18,
     "metadata": {},
     "output_type": "execute_result"
    }
   ],
   "source": [
    "df = pd.DataFrame(train_dict)\n",
    "df = df.drop(columns=[\"doi\", \"authors\", \"venue\", \"is_open_access\"])\n",
    "df.shape\n",
    "df.head()\n",
    "\n"
   ]
  },
  {
   "cell_type": "code",
   "execution_count": 22,
   "metadata": {
    "collapsed": true
   },
   "outputs": [
    {
     "name": "stdout",
     "output_type": "stream",
     "text": [
      "[Computer Science]                              7189\n",
      "[Computer Science, Mathematics]                  132\n",
      "0                                                108\n",
      "[Psychology]                                      42\n",
      "[Computer Science, Psychology]                    39\n",
      "[Computer Science, Engineering]                   24\n",
      "[Computer Science, Medicine]                      24\n",
      "[Psychology, Computer Science]                    14\n",
      "[Engineering, Computer Science]                   10\n",
      "[Mathematics]                                     10\n",
      "[Computer Science, Sociology]                     10\n",
      "[Computer Science, Political Science]              9\n",
      "[Political Science]                                9\n",
      "[History]                                          8\n",
      "[Computer Science, History]                        7\n",
      "[Mathematics, Computer Science]                    7\n",
      "[Engineering]                                      7\n",
      "[Sociology]                                        7\n",
      "[Political Science, Computer Science]              6\n",
      "[Sociology, Computer Science]                      6\n",
      "[Computer Science, Art]                            5\n",
      "[Medicine, Computer Science]                       5\n",
      "[Philosophy]                                       4\n",
      "[History, Computer Science]                        4\n",
      "[Medicine]                                         4\n",
      "[Art, Computer Science]                            4\n",
      "[Computer Science, Biology]                        4\n",
      "[Art]                                              3\n",
      "[Computer Science, Physics]                        2\n",
      "[Computer Science, Geography]                      2\n",
      "[Philosophy, Computer Science]                     2\n",
      "[Geography]                                        2\n",
      "[Materials Science]                                2\n",
      "[Computer Science, Sociology, Mathematics]         1\n",
      "[Business]                                         1\n",
      "[Computer Science, Business, Economics]            1\n",
      "[Computer Science, Mathematics, Biology]           1\n",
      "[Computer Science, Psychology, Sociology]          1\n",
      "[Medicine, Political Science]                      1\n",
      "[Computer Science, Engineering, Mathematics]       1\n",
      "[Computer Science, Medicine, Psychology]           1\n",
      "[Geography, Computer Science]                      1\n",
      "[Medicine, Psychology]                             1\n",
      "[Biology]                                          1\n",
      "[Computer Science, Business]                       1\n",
      "[Computer Science, Mathematics, Psychology]        1\n",
      "[Computer Science, Physics, Mathematics]           1\n",
      "[Computer Science, Materials Science]              1\n",
      "Name: fields_of_study, dtype: int64\n"
     ]
    },
    {
     "data": {
      "text/plain": [
       "510                  [Computer Science]\n",
       "1965                 [Computer Science]\n",
       "4504    [Computer Science, Engineering]\n",
       "9622                 [Computer Science]\n",
       "4292                 [Computer Science]\n",
       "                     ...               \n",
       "5734                 [Computer Science]\n",
       "5191                 [Computer Science]\n",
       "5390                                  0\n",
       "860                  [Computer Science]\n",
       "7270                 [Computer Science]\n",
       "Name: fields_of_study, Length: 7726, dtype: object"
      ]
     },
     "execution_count": 22,
     "metadata": {},
     "output_type": "execute_result"
    }
   ],
   "source": [
    "print(train.fields_of_study.value_counts())\n",
    "train[\"fields_of_study\"]"
   ]
  },
  {
   "cell_type": "code",
   "execution_count": 23,
   "metadata": {
    "collapsed": true
   },
   "outputs": [
    {
     "name": "stdout",
     "output_type": "stream",
     "text": [
      "[]                                                                                                                                                                                                                                                                                                     1717\n",
      "[Natural language processing]                                                                                                                                                                                                                                                                            12\n",
      "[Machine translation]                                                                                                                                                                                                                                                                                    10\n",
      "[Neural machine translation]                                                                                                                                                                                                                                                                             10\n",
      "[Parsing]                                                                                                                                                                                                                                                                                                 9\n",
      "                                                                                                                                                                                                                                                                                                       ... \n",
      "[Hard Time, Preprocessor, Word2vec, Nominal category, Unbalanced circuit]                                                                                                                                                                                                                                 1\n",
      "[Wikipedia, Entity, Distributional semantics, Hashtag, Baseline (configuration management), Time series, Language model, Text-based (computing), Social media, Entropy maximization, End-to-end encryption, Experiment, Page view, Expectation–maximization algorithm, Natural language processing]       1\n",
      "[Star filler, Language model, Random neural network, Perplexity, NP (complexity), Experiment, Natural language processing]                                                                                                                                                                                1\n",
      "[Deep learning, Convolutional neural network, Artificial neural network, Recurrent neural network, Minimal Working Example, Machine translation, Downstream (software development), Natural language processing]                                                                                          1\n",
      "[Question answering, Lazy learning, Journal of Experimental and Theoretical Artificial Intelligence, Information seeking, Hideki Imai, Dialog system, On the fly, Lazy evaluation, Jun Wang (scientist), Kernel (operating system)]                                                                       1\n",
      "Name: topics, Length: 5873, dtype: int64\n"
     ]
    },
    {
     "data": {
      "text/plain": [
       "510     [WordNet, Lexicography, Language model, Knowle...\n",
       "1965    [Vertex-transitive graph, Lexical substitution...\n",
       "4504                                        [Text corpus]\n",
       "9622                                [Test data, Test set]\n",
       "4292                                                   []\n",
       "                              ...                        \n",
       "5734                                                   []\n",
       "5191    [Long short-term memory, Natural language, Net...\n",
       "5390    [Learning to rank, Information retrieval, Coll...\n",
       "860                       [Data compression, Computation]\n",
       "7270    [Text corpus, Lemmatisation, Lexical analysis,...\n",
       "Name: topics, Length: 7726, dtype: object"
      ]
     },
     "execution_count": 23,
     "metadata": {},
     "output_type": "execute_result"
    }
   ],
   "source": [
    "print(train.topics.value_counts())\n",
    "train[\"topics\"]"
   ]
  },
  {
   "cell_type": "code",
   "execution_count": 29,
   "metadata": {},
   "outputs": [
    {
     "data": {
      "text/html": [
       "<div>\n",
       "<style scoped>\n",
       "    .dataframe tbody tr th:only-of-type {\n",
       "        vertical-align: middle;\n",
       "    }\n",
       "\n",
       "    .dataframe tbody tr th {\n",
       "        vertical-align: top;\n",
       "    }\n",
       "\n",
       "    .dataframe thead th {\n",
       "        text-align: right;\n",
       "    }\n",
       "</style>\n",
       "<table border=\"1\" class=\"dataframe\">\n",
       "  <thead>\n",
       "    <tr style=\"text-align: right;\">\n",
       "      <th></th>\n",
       "      <th>abstract</th>\n",
       "      <th>year</th>\n",
       "      <th>references</th>\n",
       "      <th>topics</th>\n",
       "      <th>fields_of_study</th>\n",
       "      <th>citations</th>\n",
       "    </tr>\n",
       "  </thead>\n",
       "  <tbody>\n",
       "    <tr>\n",
       "      <th>510</th>\n",
       "      <td>In this paper I propose a generalization of le...</td>\n",
       "      <td>1992.0</td>\n",
       "      <td>12</td>\n",
       "      <td>[WordNet, Lexicography, Language model, Knowle...</td>\n",
       "      <td>[Computer Science]</td>\n",
       "      <td>73</td>\n",
       "    </tr>\n",
       "    <tr>\n",
       "      <th>1965</th>\n",
       "      <td>We propose a novel method for acquiring entail...</td>\n",
       "      <td>2015.0</td>\n",
       "      <td>26</td>\n",
       "      <td>[Vertex-transitive graph, Lexical substitution...</td>\n",
       "      <td>[Computer Science]</td>\n",
       "      <td>7</td>\n",
       "    </tr>\n",
       "    <tr>\n",
       "      <th>4504</th>\n",
       "      <td>None</td>\n",
       "      <td>2015.0</td>\n",
       "      <td>0</td>\n",
       "      <td>[Text corpus]</td>\n",
       "      <td>[Computer Science, Engineering]</td>\n",
       "      <td>0</td>\n",
       "    </tr>\n",
       "    <tr>\n",
       "      <th>9622</th>\n",
       "      <td>This paper reports on the BEA-2019 Shared Task...</td>\n",
       "      <td>2019.0</td>\n",
       "      <td>53</td>\n",
       "      <td>[Test data, Test set]</td>\n",
       "      <td>[Computer Science]</td>\n",
       "      <td>98</td>\n",
       "    </tr>\n",
       "    <tr>\n",
       "      <th>4292</th>\n",
       "      <td>Automatic math problem solving has recently at...</td>\n",
       "      <td>2021.0</td>\n",
       "      <td>41</td>\n",
       "      <td>[]</td>\n",
       "      <td>[Computer Science]</td>\n",
       "      <td>2</td>\n",
       "    </tr>\n",
       "  </tbody>\n",
       "</table>\n",
       "</div>"
      ],
      "text/plain": [
       "                                               abstract    year  references  \\\n",
       "510   In this paper I propose a generalization of le...  1992.0          12   \n",
       "1965  We propose a novel method for acquiring entail...  2015.0          26   \n",
       "4504                                               None  2015.0           0   \n",
       "9622  This paper reports on the BEA-2019 Shared Task...  2019.0          53   \n",
       "4292  Automatic math problem solving has recently at...  2021.0          41   \n",
       "\n",
       "                                                 topics  \\\n",
       "510   [WordNet, Lexicography, Language model, Knowle...   \n",
       "1965  [Vertex-transitive graph, Lexical substitution...   \n",
       "4504                                      [Text corpus]   \n",
       "9622                              [Test data, Test set]   \n",
       "4292                                                 []   \n",
       "\n",
       "                      fields_of_study  citations  \n",
       "510                [Computer Science]         73  \n",
       "1965               [Computer Science]          7  \n",
       "4504  [Computer Science, Engineering]          0  \n",
       "9622               [Computer Science]         98  \n",
       "4292               [Computer Science]          2  "
      ]
     },
     "execution_count": 29,
     "metadata": {},
     "output_type": "execute_result"
    }
   ],
   "source": [
    "df_num = train.drop('title', axis=1)\n",
    "df_num.head()\n"
   ]
  },
  {
   "cell_type": "code",
   "execution_count": 33,
   "metadata": {},
   "outputs": [
    {
     "name": "stderr",
     "output_type": "stream",
     "text": [
      "/Users/edoardosaldarelli/opt/anaconda3/lib/python3.8/site-packages/pandas/core/frame.py:4163: SettingWithCopyWarning: \n",
      "A value is trying to be set on a copy of a slice from a DataFrame\n",
      "\n",
      "See the caveats in the documentation: https://pandas.pydata.org/pandas-docs/stable/user_guide/indexing.html#returning-a-view-versus-a-copy\n",
      "  return super().drop(\n"
     ]
    }
   ],
   "source": [
    "train.drop(['title'], axis=1, inplace=True)"
   ]
  },
  {
   "cell_type": "code",
   "execution_count": 35,
   "metadata": {},
   "outputs": [
    {
     "data": {
      "text/html": [
       "<div>\n",
       "<style scoped>\n",
       "    .dataframe tbody tr th:only-of-type {\n",
       "        vertical-align: middle;\n",
       "    }\n",
       "\n",
       "    .dataframe tbody tr th {\n",
       "        vertical-align: top;\n",
       "    }\n",
       "\n",
       "    .dataframe thead th {\n",
       "        text-align: right;\n",
       "    }\n",
       "</style>\n",
       "<table border=\"1\" class=\"dataframe\">\n",
       "  <thead>\n",
       "    <tr style=\"text-align: right;\">\n",
       "      <th></th>\n",
       "      <th>year</th>\n",
       "      <th>references</th>\n",
       "      <th>citations</th>\n",
       "    </tr>\n",
       "  </thead>\n",
       "  <tbody>\n",
       "    <tr>\n",
       "      <th>510</th>\n",
       "      <td>1992.0</td>\n",
       "      <td>12</td>\n",
       "      <td>73</td>\n",
       "    </tr>\n",
       "    <tr>\n",
       "      <th>1965</th>\n",
       "      <td>2015.0</td>\n",
       "      <td>26</td>\n",
       "      <td>7</td>\n",
       "    </tr>\n",
       "    <tr>\n",
       "      <th>4504</th>\n",
       "      <td>2015.0</td>\n",
       "      <td>0</td>\n",
       "      <td>0</td>\n",
       "    </tr>\n",
       "    <tr>\n",
       "      <th>9622</th>\n",
       "      <td>2019.0</td>\n",
       "      <td>53</td>\n",
       "      <td>98</td>\n",
       "    </tr>\n",
       "    <tr>\n",
       "      <th>4292</th>\n",
       "      <td>2021.0</td>\n",
       "      <td>41</td>\n",
       "      <td>2</td>\n",
       "    </tr>\n",
       "    <tr>\n",
       "      <th>...</th>\n",
       "      <td>...</td>\n",
       "      <td>...</td>\n",
       "      <td>...</td>\n",
       "    </tr>\n",
       "    <tr>\n",
       "      <th>5734</th>\n",
       "      <td>2020.0</td>\n",
       "      <td>38</td>\n",
       "      <td>10</td>\n",
       "    </tr>\n",
       "    <tr>\n",
       "      <th>5191</th>\n",
       "      <td>2017.0</td>\n",
       "      <td>40</td>\n",
       "      <td>679</td>\n",
       "    </tr>\n",
       "    <tr>\n",
       "      <th>5390</th>\n",
       "      <td>2012.0</td>\n",
       "      <td>0</td>\n",
       "      <td>0</td>\n",
       "    </tr>\n",
       "    <tr>\n",
       "      <th>860</th>\n",
       "      <td>1984.0</td>\n",
       "      <td>25</td>\n",
       "      <td>23</td>\n",
       "    </tr>\n",
       "    <tr>\n",
       "      <th>7270</th>\n",
       "      <td>2019.0</td>\n",
       "      <td>24</td>\n",
       "      <td>1</td>\n",
       "    </tr>\n",
       "  </tbody>\n",
       "</table>\n",
       "<p>7726 rows × 3 columns</p>\n",
       "</div>"
      ],
      "text/plain": [
       "        year  references  citations\n",
       "510   1992.0          12         73\n",
       "1965  2015.0          26          7\n",
       "4504  2015.0           0          0\n",
       "9622  2019.0          53         98\n",
       "4292  2021.0          41          2\n",
       "...      ...         ...        ...\n",
       "5734  2020.0          38         10\n",
       "5191  2017.0          40        679\n",
       "5390  2012.0           0          0\n",
       "860   1984.0          25         23\n",
       "7270  2019.0          24          1\n",
       "\n",
       "[7726 rows x 3 columns]"
      ]
     },
     "execution_count": 35,
     "metadata": {},
     "output_type": "execute_result"
    }
   ],
   "source": [
    "train"
   ]
  },
  {
   "cell_type": "code",
   "execution_count": 36,
   "metadata": {
    "scrolled": true
   },
   "outputs": [
    {
     "data": {
      "text/plain": [
       "array([[-0.81119716,  0.21527882],\n",
       "       [-0.24949526, -0.16013281],\n",
       "       [-1.29265592, -0.1999492 ],\n",
       "       ...,\n",
       "       [-1.29265592, -0.1999492 ],\n",
       "       [-0.28961683, -0.06912393],\n",
       "       [-0.32973839, -0.19426114]])"
      ]
     },
     "execution_count": 36,
     "metadata": {},
     "output_type": "execute_result"
    }
   ],
   "source": [
    "from sklearn.preprocessing import StandardScaler\n",
    "X = train.values[:,1:]\n",
    "X = np.nan_to_num(X)\n",
    "Clus_dataSet = StandardScaler().fit_transform(X)\n",
    "Clus_dataSet"
   ]
  },
  {
   "cell_type": "code",
   "execution_count": 37,
   "metadata": {},
   "outputs": [
    {
     "name": "stdout",
     "output_type": "stream",
     "text": [
      "[0 0 0 ... 0 0 0]\n"
     ]
    }
   ],
   "source": [
    "clusterNum = 3\n",
    "k_means = KMeans(init = \"k-means++\", n_clusters = clusterNum, n_init = 12)\n",
    "k_means.fit(X)\n",
    "labels = k_means.labels_\n",
    "print(labels)"
   ]
  },
  {
   "cell_type": "code",
   "execution_count": 45,
   "metadata": {},
   "outputs": [
    {
     "data": {
      "text/html": [
       "<div>\n",
       "<style scoped>\n",
       "    .dataframe tbody tr th:only-of-type {\n",
       "        vertical-align: middle;\n",
       "    }\n",
       "\n",
       "    .dataframe tbody tr th {\n",
       "        vertical-align: top;\n",
       "    }\n",
       "\n",
       "    .dataframe thead th {\n",
       "        text-align: right;\n",
       "    }\n",
       "</style>\n",
       "<table border=\"1\" class=\"dataframe\">\n",
       "  <thead>\n",
       "    <tr style=\"text-align: right;\">\n",
       "      <th></th>\n",
       "      <th>year</th>\n",
       "      <th>references</th>\n",
       "      <th>citations</th>\n",
       "      <th>Clus_km</th>\n",
       "    </tr>\n",
       "    <tr>\n",
       "      <th>Index</th>\n",
       "      <th></th>\n",
       "      <th></th>\n",
       "      <th></th>\n",
       "      <th></th>\n",
       "    </tr>\n",
       "  </thead>\n",
       "  <tbody>\n",
       "    <tr>\n",
       "      <th>0</th>\n",
       "      <td>2015.431511</td>\n",
       "      <td>31.972743</td>\n",
       "      <td>23.407417</td>\n",
       "      <td>0</td>\n",
       "    </tr>\n",
       "    <tr>\n",
       "      <th>1</th>\n",
       "      <td>2009.400000</td>\n",
       "      <td>23.200000</td>\n",
       "      <td>5376.800000</td>\n",
       "      <td>1</td>\n",
       "    </tr>\n",
       "    <tr>\n",
       "      <th>2</th>\n",
       "      <td>2009.355556</td>\n",
       "      <td>53.555556</td>\n",
       "      <td>734.244444</td>\n",
       "      <td>2</td>\n",
       "    </tr>\n",
       "  </tbody>\n",
       "</table>\n",
       "</div>"
      ],
      "text/plain": [
       "              year  references    citations  Clus_km\n",
       "Index                                               \n",
       "0      2015.431511   31.972743    23.407417        0\n",
       "1      2009.400000   23.200000  5376.800000        1\n",
       "2      2009.355556   53.555556   734.244444        2"
      ]
     },
     "execution_count": 45,
     "metadata": {},
     "output_type": "execute_result"
    }
   ],
   "source": [
    "train.groupby('Index').mean()"
   ]
  },
  {
   "cell_type": "code",
   "execution_count": 46,
   "metadata": {},
   "outputs": [
    {
     "name": "stderr",
     "output_type": "stream",
     "text": [
      "/Users/edoardosaldarelli/opt/anaconda3/lib/python3.8/site-packages/pandas/core/frame.py:4163: SettingWithCopyWarning: \n",
      "A value is trying to be set on a copy of a slice from a DataFrame\n",
      "\n",
      "See the caveats in the documentation: https://pandas.pydata.org/pandas-docs/stable/user_guide/indexing.html#returning-a-view-versus-a-copy\n",
      "  return super().drop(\n"
     ]
    }
   ],
   "source": [
    "train.drop(['Clus_km'], axis=1, inplace=True)"
   ]
  },
  {
   "cell_type": "code",
   "execution_count": 47,
   "metadata": {},
   "outputs": [
    {
     "data": {
      "text/html": [
       "<div>\n",
       "<style scoped>\n",
       "    .dataframe tbody tr th:only-of-type {\n",
       "        vertical-align: middle;\n",
       "    }\n",
       "\n",
       "    .dataframe tbody tr th {\n",
       "        vertical-align: top;\n",
       "    }\n",
       "\n",
       "    .dataframe thead th {\n",
       "        text-align: right;\n",
       "    }\n",
       "</style>\n",
       "<table border=\"1\" class=\"dataframe\">\n",
       "  <thead>\n",
       "    <tr style=\"text-align: right;\">\n",
       "      <th></th>\n",
       "      <th>year</th>\n",
       "      <th>references</th>\n",
       "      <th>citations</th>\n",
       "    </tr>\n",
       "    <tr>\n",
       "      <th>Index</th>\n",
       "      <th></th>\n",
       "      <th></th>\n",
       "      <th></th>\n",
       "    </tr>\n",
       "  </thead>\n",
       "  <tbody>\n",
       "    <tr>\n",
       "      <th>0</th>\n",
       "      <td>2015.431511</td>\n",
       "      <td>31.972743</td>\n",
       "      <td>23.407417</td>\n",
       "    </tr>\n",
       "    <tr>\n",
       "      <th>1</th>\n",
       "      <td>2009.400000</td>\n",
       "      <td>23.200000</td>\n",
       "      <td>5376.800000</td>\n",
       "    </tr>\n",
       "    <tr>\n",
       "      <th>2</th>\n",
       "      <td>2009.355556</td>\n",
       "      <td>53.555556</td>\n",
       "      <td>734.244444</td>\n",
       "    </tr>\n",
       "  </tbody>\n",
       "</table>\n",
       "</div>"
      ],
      "text/plain": [
       "              year  references    citations\n",
       "Index                                      \n",
       "0      2015.431511   31.972743    23.407417\n",
       "1      2009.400000   23.200000  5376.800000\n",
       "2      2009.355556   53.555556   734.244444"
      ]
     },
     "execution_count": 47,
     "metadata": {},
     "output_type": "execute_result"
    }
   ],
   "source": [
    "train.groupby('Index').mean()"
   ]
  },
  {
   "cell_type": "code",
   "execution_count": 55,
   "metadata": {},
   "outputs": [
    {
     "data": {
      "image/png": "[encoded data removed]",
      "text/plain": [
       "<Figure size 432x288 with 1 Axes>"
      ]
     },
     "metadata": {
      "needs_background": "light"
     },
     "output_type": "display_data"
    }
   ],
   "source": [
    "area = np.pi * ( X[:, 1])**2  \n",
    "plt.scatter(X[:, 0], X[:, 1], s=area, c=labels.astype(np.float), alpha=0.5)\n",
    "plt.xlabel('references', fontsize=18)\n",
    "plt.ylabel('citations', fontsize=16)\n",
    "\n",
    "plt.show()"
   ]
  },
  {
   "cell_type": "code",
   "execution_count": 61,
   "metadata": {},
   "outputs": [
    {
     "data": {
      "text/plain": [
       "<mpl_toolkits.mplot3d.art3d.Path3DCollection at 0x7ff02a9def40>"
      ]
     },
     "execution_count": 61,
     "metadata": {},
     "output_type": "execute_result"
    },
    {
     "data": {
      "image/png": "[encoded data removed]",
      "text/plain": [
       "<Figure size 576x432 with 1 Axes>"
      ]
     },
     "metadata": {
      "needs_background": "light"
     },
     "output_type": "display_data"
    }
   ],
   "source": [
    "from mpl_toolkits.mplot3d import Axes3D \n",
    "fig = plt.figure(1, figsize=(8, 6))\n",
    "plt.clf()\n",
    "ax = Axes3D(fig, rect=[0, 0, .95, 1], elev=48, azim=134)\n",
    "\n",
    "plt.cla()\n",
    "\n",
    "ax.set_xlabel('year',fontsize=18)\n",
    "ax.set_ylabel('citations',fontsize=18)\n",
    "ax.set_zlabel('references',fontsize=18)\n",
    "\n",
    "ax.scatter(X[:, 1], X[:, 0], X[:, 1], c= labels.astype(np.float))"
   ]
  },
  {
   "cell_type": "code",
   "execution_count": 64,
   "metadata": {},
   "outputs": [
    {
     "ename": "TypeError",
     "evalue": "unhashable type: 'numpy.ndarray'",
     "output_type": "error",
     "traceback": [
      "\u001b[0;31m---------------------------------------------------------------------------\u001b[0m",
      "\u001b[0;31mTypeError\u001b[0m                                 Traceback (most recent call last)",
      "\u001b[0;32m<ipython-input-64-d08dfb70fe86>\u001b[0m in \u001b[0;36m<module>\u001b[0;34m\u001b[0m\n\u001b[1;32m      1\u001b[0m \u001b[0mfig\u001b[0m \u001b[0;34m=\u001b[0m \u001b[0mplt\u001b[0m\u001b[0;34m.\u001b[0m\u001b[0mfigure\u001b[0m\u001b[0;34m(\u001b[0m\u001b[0mfigsize\u001b[0m\u001b[0;34m=\u001b[0m\u001b[0;34m(\u001b[0m\u001b[0;36m6\u001b[0m\u001b[0;34m,\u001b[0m \u001b[0;36m4\u001b[0m\u001b[0;34m)\u001b[0m\u001b[0;34m)\u001b[0m\u001b[0;34m\u001b[0m\u001b[0;34m\u001b[0m\u001b[0m\n\u001b[0;32m----> 2\u001b[0;31m \u001b[0mcolors\u001b[0m \u001b[0;34m=\u001b[0m \u001b[0mplt\u001b[0m\u001b[0;34m.\u001b[0m\u001b[0mcm\u001b[0m\u001b[0;34m.\u001b[0m\u001b[0mSpectral\u001b[0m\u001b[0;34m(\u001b[0m\u001b[0mnp\u001b[0m\u001b[0;34m.\u001b[0m\u001b[0mlinspace\u001b[0m\u001b[0;34m(\u001b[0m\u001b[0;36m0\u001b[0m\u001b[0;34m,\u001b[0m \u001b[0;36m1\u001b[0m\u001b[0;34m,\u001b[0m \u001b[0mlen\u001b[0m\u001b[0;34m(\u001b[0m\u001b[0mset\u001b[0m\u001b[0;34m(\u001b[0m\u001b[0mClus_dataSet\u001b[0m\u001b[0;34m)\u001b[0m\u001b[0;34m)\u001b[0m\u001b[0;34m)\u001b[0m\u001b[0;34m)\u001b[0m\u001b[0;34m\u001b[0m\u001b[0;34m\u001b[0m\u001b[0m\n\u001b[0m\u001b[1;32m      3\u001b[0m \u001b[0max\u001b[0m \u001b[0;34m=\u001b[0m \u001b[0mfig\u001b[0m\u001b[0;34m.\u001b[0m\u001b[0madd_subplot\u001b[0m\u001b[0;34m(\u001b[0m\u001b[0;36m1\u001b[0m\u001b[0;34m,\u001b[0m \u001b[0;36m1\u001b[0m\u001b[0;34m,\u001b[0m \u001b[0;36m1\u001b[0m\u001b[0;34m)\u001b[0m\u001b[0;34m\u001b[0m\u001b[0;34m\u001b[0m\u001b[0m\n\u001b[1;32m      4\u001b[0m \u001b[0;32mfor\u001b[0m \u001b[0mk\u001b[0m\u001b[0;34m,\u001b[0m \u001b[0mcol\u001b[0m \u001b[0;32min\u001b[0m \u001b[0mzip\u001b[0m\u001b[0;34m(\u001b[0m\u001b[0mrange\u001b[0m\u001b[0;34m(\u001b[0m\u001b[0mlen\u001b[0m\u001b[0;34m(\u001b[0m\u001b[0;34m[\u001b[0m\u001b[0;34m[\u001b[0m\u001b[0;36m4\u001b[0m\u001b[0;34m,\u001b[0m\u001b[0;36m4\u001b[0m\u001b[0;34m]\u001b[0m\u001b[0;34m,\u001b[0m \u001b[0;34m[\u001b[0m\u001b[0;34m-\u001b[0m\u001b[0;36m2\u001b[0m\u001b[0;34m,\u001b[0m \u001b[0;34m-\u001b[0m\u001b[0;36m1\u001b[0m\u001b[0;34m]\u001b[0m\u001b[0;34m,\u001b[0m \u001b[0;34m[\u001b[0m\u001b[0;36m2\u001b[0m\u001b[0;34m,\u001b[0m \u001b[0;34m-\u001b[0m\u001b[0;36m3\u001b[0m\u001b[0;34m]\u001b[0m\u001b[0;34m,\u001b[0m \u001b[0;34m[\u001b[0m\u001b[0;36m1\u001b[0m\u001b[0;34m,\u001b[0m \u001b[0;36m1\u001b[0m\u001b[0;34m]\u001b[0m\u001b[0;34m]\u001b[0m\u001b[0;34m)\u001b[0m\u001b[0;34m)\u001b[0m\u001b[0;34m,\u001b[0m \u001b[0mcolors\u001b[0m\u001b[0;34m)\u001b[0m\u001b[0;34m:\u001b[0m\u001b[0;34m\u001b[0m\u001b[0;34m\u001b[0m\u001b[0m\n\u001b[1;32m      5\u001b[0m     \u001b[0mmy_members\u001b[0m \u001b[0;34m=\u001b[0m \u001b[0;34m(\u001b[0m\u001b[0mk_means_labels\u001b[0m \u001b[0;34m==\u001b[0m \u001b[0mk\u001b[0m\u001b[0;34m)\u001b[0m\u001b[0;34m\u001b[0m\u001b[0;34m\u001b[0m\u001b[0m\n",
      "\u001b[0;31mTypeError\u001b[0m: unhashable type: 'numpy.ndarray'"
     ]
    },
    {
     "data": {
      "text/plain": [
       "<Figure size 432x288 with 0 Axes>"
      ]
     },
     "metadata": {},
     "output_type": "display_data"
    }
   ],
   "source": [
    "fig = plt.figure(figsize=(6, 4))\n",
    "colors = plt.cm.Spectral(np.linspace(0, 1, len(set(Clus_dataSet))))\n",
    "ax = fig.add_subplot(1, 1, 1)\n",
    "for k, col in zip(range(len([[4,4], [-2, -1], [2, -3], [1, 1]])), colors):\n",
    "    my_members = (k_means_labels == k)\n",
    "    cluster_center = k_means_cluster_centers[k]\n",
    "    ax.plot(X[my_members, 0], X[my_members, 1], 'w', markerfacecolor=col, marker='.')\n",
    "    ax.plot(cluster_center[0], cluster_center[1], 'o', markerfacecolor=col,  markeredgecolor='k', markersize=6)\n",
    "\n",
    "ax.set_title('KMeans')\n",
    "ax.set_xticks(())\n",
    "ax.set_yticks(())\n",
    "plt.show()\n",
    "    \n",
    "\n"
   ]
  },
  {
   "cell_type": "code",
   "execution_count": null,
   "metadata": {},
   "outputs": [],
   "source": [
    "# ABSTRACT, CITATIONS, "
   ]
  }
 ],
 "metadata": {
  "kernelspec": {
   "display_name": "Python 3",
   "language": "python",
   "name": "python3"
  },
  "language_info": {
   "codemirror_mode": {
    "name": "ipython",
    "version": 3
   },
   "file_extension": ".py",
   "mimetype": "text/x-python",
   "name": "python",
   "nbconvert_exporter": "python",
   "pygments_lexer": "ipython3",
   "version": "3.8.5"
  }
 },
 "nbformat": 4,
 "nbformat_minor": 4
}
